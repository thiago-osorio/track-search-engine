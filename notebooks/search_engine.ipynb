{
 "cells": [
  {
   "cell_type": "markdown",
   "metadata": {},
   "source": [
    "# Libs"
   ]
  },
  {
   "cell_type": "code",
   "execution_count": 1,
   "metadata": {},
   "outputs": [],
   "source": [
    "import os\n",
    "import faiss\n",
    "import hnswlib\n",
    "import spotipy\n",
    "import pandas as pd\n",
    "from dotenv import load_dotenv\n",
    "from spotipy.oauth2 import SpotifyClientCredentials\n",
    "from sentence_transformers import SentenceTransformer"
   ]
  },
  {
   "cell_type": "markdown",
   "metadata": {},
   "source": [
    "# Data"
   ]
  },
  {
   "cell_type": "code",
   "execution_count": 2,
   "metadata": {},
   "outputs": [
    {
     "data": {
      "text/html": [
       "<div>\n",
       "<style scoped>\n",
       "    .dataframe tbody tr th:only-of-type {\n",
       "        vertical-align: middle;\n",
       "    }\n",
       "\n",
       "    .dataframe tbody tr th {\n",
       "        vertical-align: top;\n",
       "    }\n",
       "\n",
       "    .dataframe thead th {\n",
       "        text-align: right;\n",
       "    }\n",
       "</style>\n",
       "<table border=\"1\" class=\"dataframe\">\n",
       "  <thead>\n",
       "    <tr style=\"text-align: right;\">\n",
       "      <th></th>\n",
       "      <th>track_id</th>\n",
       "      <th>artists</th>\n",
       "      <th>track_name</th>\n",
       "    </tr>\n",
       "  </thead>\n",
       "  <tbody>\n",
       "    <tr>\n",
       "      <th>0</th>\n",
       "      <td>5SuOikwiRyPMVoIQDJUgSV</td>\n",
       "      <td>Gen Hoshino</td>\n",
       "      <td>Comedy</td>\n",
       "    </tr>\n",
       "    <tr>\n",
       "      <th>1</th>\n",
       "      <td>4qPNDBW1i3p13qLCt0Ki3A</td>\n",
       "      <td>Ben Woodward</td>\n",
       "      <td>Ghost - Acoustic</td>\n",
       "    </tr>\n",
       "    <tr>\n",
       "      <th>2</th>\n",
       "      <td>6lfxq3CG4xtTiEg7opyCyx</td>\n",
       "      <td>Kina Grannis</td>\n",
       "      <td>Can't Help Falling In Love</td>\n",
       "    </tr>\n",
       "    <tr>\n",
       "      <th>3</th>\n",
       "      <td>5vjLSffimiIP26QG5WcN2K</td>\n",
       "      <td>Chord Overstreet</td>\n",
       "      <td>Hold On</td>\n",
       "    </tr>\n",
       "    <tr>\n",
       "      <th>4</th>\n",
       "      <td>01MVOl9KtVTNfFiBU9I7dc</td>\n",
       "      <td>Tyrone Wells</td>\n",
       "      <td>Days I Will Remember</td>\n",
       "    </tr>\n",
       "    <tr>\n",
       "      <th>...</th>\n",
       "      <td>...</td>\n",
       "      <td>...</td>\n",
       "      <td>...</td>\n",
       "    </tr>\n",
       "    <tr>\n",
       "      <th>81339</th>\n",
       "      <td>42bdU7oDyRvyRXaKbUrtfu</td>\n",
       "      <td>Bethel Music</td>\n",
       "      <td>Victory Is Yours - Live (feat. Bethany Wohrle)</td>\n",
       "    </tr>\n",
       "    <tr>\n",
       "      <th>81340</th>\n",
       "      <td>1eZYPovTvmxk3QlVD2VpCX</td>\n",
       "      <td>Bethel Music</td>\n",
       "      <td>We Will Not Be Shaken - Live (feat. Brian John...</td>\n",
       "    </tr>\n",
       "    <tr>\n",
       "      <th>81341</th>\n",
       "      <td>7mD7yAQm4GcifSnWqJdZHi</td>\n",
       "      <td>Bethel Music</td>\n",
       "      <td>Ain’t No Grave - Live (feat. Molly Skaggs)</td>\n",
       "    </tr>\n",
       "    <tr>\n",
       "      <th>81342</th>\n",
       "      <td>2yAo8cJDVoMjBMS5MgrO8P</td>\n",
       "      <td>Hillsong Worship</td>\n",
       "      <td>This Is Living (feat. Hillsong Young &amp; Free)</td>\n",
       "    </tr>\n",
       "    <tr>\n",
       "      <th>81343</th>\n",
       "      <td>0XEgJiDryoDd2gIJhVXghd</td>\n",
       "      <td>Bryan &amp; Katie Torwalt</td>\n",
       "      <td>Hallelujah On My Knees - Live (feat. Brock Human)</td>\n",
       "    </tr>\n",
       "  </tbody>\n",
       "</table>\n",
       "<p>81344 rows × 3 columns</p>\n",
       "</div>"
      ],
      "text/plain": [
       "                     track_id                artists  \\\n",
       "0      5SuOikwiRyPMVoIQDJUgSV            Gen Hoshino   \n",
       "1      4qPNDBW1i3p13qLCt0Ki3A           Ben Woodward   \n",
       "2      6lfxq3CG4xtTiEg7opyCyx           Kina Grannis   \n",
       "3      5vjLSffimiIP26QG5WcN2K       Chord Overstreet   \n",
       "4      01MVOl9KtVTNfFiBU9I7dc           Tyrone Wells   \n",
       "...                       ...                    ...   \n",
       "81339  42bdU7oDyRvyRXaKbUrtfu           Bethel Music   \n",
       "81340  1eZYPovTvmxk3QlVD2VpCX           Bethel Music   \n",
       "81341  7mD7yAQm4GcifSnWqJdZHi           Bethel Music   \n",
       "81342  2yAo8cJDVoMjBMS5MgrO8P       Hillsong Worship   \n",
       "81343  0XEgJiDryoDd2gIJhVXghd  Bryan & Katie Torwalt   \n",
       "\n",
       "                                              track_name  \n",
       "0                                                 Comedy  \n",
       "1                                       Ghost - Acoustic  \n",
       "2                             Can't Help Falling In Love  \n",
       "3                                                Hold On  \n",
       "4                                   Days I Will Remember  \n",
       "...                                                  ...  \n",
       "81339     Victory Is Yours - Live (feat. Bethany Wohrle)  \n",
       "81340  We Will Not Be Shaken - Live (feat. Brian John...  \n",
       "81341         Ain’t No Grave - Live (feat. Molly Skaggs)  \n",
       "81342       This Is Living (feat. Hillsong Young & Free)  \n",
       "81343  Hallelujah On My Knees - Live (feat. Brock Human)  \n",
       "\n",
       "[81344 rows x 3 columns]"
      ]
     },
     "execution_count": 2,
     "metadata": {},
     "output_type": "execute_result"
    }
   ],
   "source": [
    "df = pd.read_csv('../data/tracks.csv', sep=';')\n",
    "df"
   ]
  },
  {
   "cell_type": "markdown",
   "metadata": {},
   "source": [
    "# Embeddings"
   ]
  },
  {
   "cell_type": "code",
   "execution_count": 3,
   "metadata": {},
   "outputs": [],
   "source": [
    "tracks = (df['track_name'].str.lower() + ' - ' + df['artists'].str.lower()).values\n",
    "# tracks = df['track_name'].str.lower().values"
   ]
  },
  {
   "cell_type": "markdown",
   "metadata": {},
   "source": [
    "### Pre-Trained Models"
   ]
  },
  {
   "cell_type": "code",
   "execution_count": 4,
   "metadata": {},
   "outputs": [],
   "source": [
    "models = ['sentence-transformers/all-mpnet-base-v2', 'sentence-transformers/all-MiniLM-L6-v2', 'sentence-transformers/all-MiniLM-L12-v2', 'sentence-transformers/multi-qa-MiniLM-L6-cos-v1', 'sentence-transformers/paraphrase-multilingual-MiniLM-L12-v2', 'sentence-transformers/paraphrase-MiniLM-L6-v2', 'msmarco-MiniLM-L-12-v3', 'bert-base-uncased']"
   ]
  },
  {
   "cell_type": "code",
   "execution_count": 5,
   "metadata": {},
   "outputs": [
    {
     "name": "stdout",
     "output_type": "stream",
     "text": [
      "sentence-transformers/all-mpnet-base-v2\n",
      "                     track_id       artists                 track_name\n",
      "8326   4Cg0paoTgxlo2LC85HKaab    Nick Drake                 Which Will\n",
      "7985   0hNVjU6JKydHts0SAjHCno    Nick Drake  One Of These Things First\n",
      "13765  2cEmWBBlCfR9wWrY9JmTyt          ZAYN                     Let Me\n",
      "23076  1parCywpMDF9i6sO13kyvc         K.I.Z              Rap über Hass\n",
      "50934  0L1qOe6ZGo8NZeU3yLclZP  Zach Diamond                       Wavy\n",
      "------------------------------\n",
      "sentence-transformers/all-MiniLM-L6-v2\n",
      "                     track_id     artists                 track_name\n",
      "8326   4Cg0paoTgxlo2LC85HKaab  Nick Drake                 Which Will\n",
      "30832  6DCZcSspjsKoFjzjrWoCdn       Drake                 God's Plan\n",
      "7985   0hNVjU6JKydHts0SAjHCno  Nick Drake  One Of These Things First\n",
      "8208   5ir0VEsMI7cLhN6SEiaKol  Nick Drake                       Road\n",
      "8325   1drLQNS9D5z9lBP4DbtO2R  Nick Drake               Saturday Sun\n",
      "------------------------------\n",
      "sentence-transformers/all-MiniLM-L12-v2\n",
      "                     track_id     artists                 track_name\n",
      "30832  6DCZcSspjsKoFjzjrWoCdn       Drake                 God's Plan\n",
      "7985   0hNVjU6JKydHts0SAjHCno  Nick Drake  One Of These Things First\n",
      "7771   4KROoGIaPaR1pBHPnR3bwC  Nick Drake                  Pink Moon\n",
      "8208   5ir0VEsMI7cLhN6SEiaKol  Nick Drake                       Road\n",
      "8326   4Cg0paoTgxlo2LC85HKaab  Nick Drake                 Which Will\n",
      "------------------------------\n",
      "sentence-transformers/multi-qa-MiniLM-L6-cos-v1\n",
      "                    track_id     artists                 track_name\n",
      "8208  5ir0VEsMI7cLhN6SEiaKol  Nick Drake                       Road\n",
      "8326  4Cg0paoTgxlo2LC85HKaab  Nick Drake                 Which Will\n",
      "7919  5QUeSXjTMHbq1fW5da2waF  Nick Drake                Place To Be\n",
      "8133  6meH4I9A4WZtD3z8hnQKqr  Nick Drake           From The Morning\n",
      "7985  0hNVjU6JKydHts0SAjHCno  Nick Drake  One Of These Things First\n",
      "------------------------------\n",
      "sentence-transformers/paraphrase-multilingual-MiniLM-L12-v2\n",
      "                     track_id   artists        track_name\n",
      "28402  0z4fJEy4zHxM4SkPUk5XEX     Titãs  Marvin - Ao vivo\n",
      "39196  3LTKJWncXwBwnuQvda1M1m  Sangeeth        Katturumbu\n",
      "29788  1OgTVOrBb2NNvd2s35oqLG   Jebroer           Cobaine\n",
      "21517  1vYOxzQBlZ7Iz8YY1qDm5f   Tchoupi           Le chat\n",
      "28438  5wzb9UzNX65XOSrL5hZNrv     Titãs        Insensível\n",
      "------------------------------\n",
      "sentence-transformers/paraphrase-MiniLM-L6-v2\n",
      "                    track_id     artists        track_name\n",
      "8326  4Cg0paoTgxlo2LC85HKaab  Nick Drake        Which Will\n",
      "8208  5ir0VEsMI7cLhN6SEiaKol  Nick Drake              Road\n",
      "8133  6meH4I9A4WZtD3z8hnQKqr  Nick Drake  From The Morning\n",
      "7919  5QUeSXjTMHbq1fW5da2waF  Nick Drake       Place To Be\n",
      "8325  1drLQNS9D5z9lBP4DbtO2R  Nick Drake      Saturday Sun\n",
      "------------------------------\n",
      "msmarco-MiniLM-L-12-v3\n",
      "                     track_id     artists    track_name\n",
      "30832  6DCZcSspjsKoFjzjrWoCdn       Drake    God's Plan\n",
      "8326   4Cg0paoTgxlo2LC85HKaab  Nick Drake    Which Will\n",
      "8208   5ir0VEsMI7cLhN6SEiaKol  Nick Drake          Road\n",
      "8325   1drLQNS9D5z9lBP4DbtO2R  Nick Drake  Saturday Sun\n",
      "7916   3EtIraJEHVSbBvLw5msioH  Nick Drake  Northern Sky\n",
      "------------------------------\n"
     ]
    },
    {
     "name": "stderr",
     "output_type": "stream",
     "text": [
      "No sentence-transformers model found with name /Users/thiagoosorio/.cache/torch/sentence_transformers/bert-base-uncased. Creating a new one with MEAN pooling.\n"
     ]
    },
    {
     "name": "stdout",
     "output_type": "stream",
     "text": [
      "bert-base-uncased\n",
      "                     track_id  artists track_name\n",
      "37895  1kR4gIb7nGxHPI3D2ifs59      NaN        NaN\n",
      "26631  2gpkmR9oX3Jk6rDI6KUwHj    Glare      Blank\n",
      "11518  4q0CSHFWnVajd3sMEwyH4f   SIERRA   Unbroken\n",
      "17757  5ABDsQEkVZ1ECGPGQl6Yfr     NERO  Innocence\n",
      "28572  2dEgwtRjYl6TJkIwjRwn6z  Warrant     Heaven\n",
      "------------------------------\n"
     ]
    }
   ],
   "source": [
    "for model in models:\n",
    "    st = SentenceTransformer(model)\n",
    "    embeddings = st.encode(tracks)\n",
    "    index = hnswlib.Index(space='cosine', dim=st.get_sentence_embedding_dimension())\n",
    "    index.init_index(max_elements=tracks.shape[0], ef_construction=200, M=16)\n",
    "    index.add_items(embeddings)\n",
    "    \n",
    "    search_string = 'Drake'\n",
    "    query = st.encode([search_string])\n",
    "    i, _ = index.knn_query(query, k=5)\n",
    "    print(model)\n",
    "    print(df.iloc[i[0]])\n",
    "    print('-'*30)"
   ]
  },
  {
   "cell_type": "markdown",
   "metadata": {},
   "source": [
    "### Best Pre-Trained Model"
   ]
  },
  {
   "cell_type": "code",
   "execution_count": 6,
   "metadata": {},
   "outputs": [],
   "source": [
    "model = SentenceTransformer('msmarco-MiniLM-L-12-v3')"
   ]
  },
  {
   "cell_type": "code",
   "execution_count": 7,
   "metadata": {},
   "outputs": [],
   "source": [
    "embeddings = model.encode(tracks)"
   ]
  },
  {
   "cell_type": "markdown",
   "metadata": {},
   "source": [
    "# Semantic Search"
   ]
  },
  {
   "cell_type": "markdown",
   "metadata": {},
   "source": [
    "### HNSWLib"
   ]
  },
  {
   "cell_type": "code",
   "execution_count": 8,
   "metadata": {},
   "outputs": [],
   "source": [
    "index = hnswlib.Index(space='cosine', dim=model.get_sentence_embedding_dimension())\n",
    "index.init_index(max_elements=tracks.shape[0], ef_construction=200, M=16)"
   ]
  },
  {
   "cell_type": "code",
   "execution_count": 9,
   "metadata": {},
   "outputs": [],
   "source": [
    "index.add_items(embeddings)"
   ]
  },
  {
   "cell_type": "code",
   "execution_count": 10,
   "metadata": {},
   "outputs": [],
   "source": [
    "# index.save_index('../data/hnswlib_index.bin')"
   ]
  },
  {
   "cell_type": "code",
   "execution_count": 11,
   "metadata": {},
   "outputs": [],
   "source": [
    "search_string = 'Drake'"
   ]
  },
  {
   "cell_type": "code",
   "execution_count": 12,
   "metadata": {},
   "outputs": [],
   "source": [
    "query = model.encode([search_string])"
   ]
  },
  {
   "cell_type": "code",
   "execution_count": 13,
   "metadata": {},
   "outputs": [
    {
     "data": {
      "text/plain": [
       "array([[30832,  8326,  8208,  8325,  7916]], dtype=uint64)"
      ]
     },
     "execution_count": 13,
     "metadata": {},
     "output_type": "execute_result"
    }
   ],
   "source": [
    "i, d = index.knn_query(query, k=5)\n",
    "i"
   ]
  },
  {
   "cell_type": "code",
   "execution_count": 14,
   "metadata": {},
   "outputs": [
    {
     "data": {
      "text/plain": [
       "array([[0.33998847, 0.42415565, 0.4311428 , 0.46342802, 0.48567998]],\n",
       "      dtype=float32)"
      ]
     },
     "execution_count": 14,
     "metadata": {},
     "output_type": "execute_result"
    }
   ],
   "source": [
    "d"
   ]
  },
  {
   "cell_type": "code",
   "execution_count": 15,
   "metadata": {},
   "outputs": [
    {
     "data": {
      "text/html": [
       "<div>\n",
       "<style scoped>\n",
       "    .dataframe tbody tr th:only-of-type {\n",
       "        vertical-align: middle;\n",
       "    }\n",
       "\n",
       "    .dataframe tbody tr th {\n",
       "        vertical-align: top;\n",
       "    }\n",
       "\n",
       "    .dataframe thead th {\n",
       "        text-align: right;\n",
       "    }\n",
       "</style>\n",
       "<table border=\"1\" class=\"dataframe\">\n",
       "  <thead>\n",
       "    <tr style=\"text-align: right;\">\n",
       "      <th></th>\n",
       "      <th>track_id</th>\n",
       "      <th>artists</th>\n",
       "      <th>track_name</th>\n",
       "    </tr>\n",
       "  </thead>\n",
       "  <tbody>\n",
       "    <tr>\n",
       "      <th>30832</th>\n",
       "      <td>6DCZcSspjsKoFjzjrWoCdn</td>\n",
       "      <td>Drake</td>\n",
       "      <td>God's Plan</td>\n",
       "    </tr>\n",
       "    <tr>\n",
       "      <th>8326</th>\n",
       "      <td>4Cg0paoTgxlo2LC85HKaab</td>\n",
       "      <td>Nick Drake</td>\n",
       "      <td>Which Will</td>\n",
       "    </tr>\n",
       "    <tr>\n",
       "      <th>8208</th>\n",
       "      <td>5ir0VEsMI7cLhN6SEiaKol</td>\n",
       "      <td>Nick Drake</td>\n",
       "      <td>Road</td>\n",
       "    </tr>\n",
       "    <tr>\n",
       "      <th>8325</th>\n",
       "      <td>1drLQNS9D5z9lBP4DbtO2R</td>\n",
       "      <td>Nick Drake</td>\n",
       "      <td>Saturday Sun</td>\n",
       "    </tr>\n",
       "    <tr>\n",
       "      <th>7916</th>\n",
       "      <td>3EtIraJEHVSbBvLw5msioH</td>\n",
       "      <td>Nick Drake</td>\n",
       "      <td>Northern Sky</td>\n",
       "    </tr>\n",
       "  </tbody>\n",
       "</table>\n",
       "</div>"
      ],
      "text/plain": [
       "                     track_id     artists    track_name\n",
       "30832  6DCZcSspjsKoFjzjrWoCdn       Drake    God's Plan\n",
       "8326   4Cg0paoTgxlo2LC85HKaab  Nick Drake    Which Will\n",
       "8208   5ir0VEsMI7cLhN6SEiaKol  Nick Drake          Road\n",
       "8325   1drLQNS9D5z9lBP4DbtO2R  Nick Drake  Saturday Sun\n",
       "7916   3EtIraJEHVSbBvLw5msioH  Nick Drake  Northern Sky"
      ]
     },
     "execution_count": 15,
     "metadata": {},
     "output_type": "execute_result"
    }
   ],
   "source": [
    "df.iloc[i[0]]"
   ]
  },
  {
   "cell_type": "markdown",
   "metadata": {},
   "source": [
    "### FAISS"
   ]
  },
  {
   "cell_type": "code",
   "execution_count": 16,
   "metadata": {},
   "outputs": [],
   "source": [
    "index = faiss.IndexFlatL2(embeddings.shape[1])"
   ]
  },
  {
   "cell_type": "code",
   "execution_count": 17,
   "metadata": {},
   "outputs": [],
   "source": [
    "index.add(embeddings)"
   ]
  },
  {
   "cell_type": "code",
   "execution_count": 18,
   "metadata": {},
   "outputs": [],
   "source": [
    "faiss.write_index(index, '../data/faiss_index.bin')"
   ]
  },
  {
   "cell_type": "code",
   "execution_count": 20,
   "metadata": {},
   "outputs": [],
   "source": [
    "search_string = 'Drake'"
   ]
  },
  {
   "cell_type": "code",
   "execution_count": 21,
   "metadata": {},
   "outputs": [],
   "source": [
    "query = model.encode([search_string])"
   ]
  },
  {
   "cell_type": "code",
   "execution_count": 22,
   "metadata": {},
   "outputs": [],
   "source": [
    "k = 5\n",
    "top_k = index.search(query, k)"
   ]
  },
  {
   "cell_type": "code",
   "execution_count": 23,
   "metadata": {},
   "outputs": [
    {
     "data": {
      "text/html": [
       "<div>\n",
       "<style scoped>\n",
       "    .dataframe tbody tr th:only-of-type {\n",
       "        vertical-align: middle;\n",
       "    }\n",
       "\n",
       "    .dataframe tbody tr th {\n",
       "        vertical-align: top;\n",
       "    }\n",
       "\n",
       "    .dataframe thead th {\n",
       "        text-align: right;\n",
       "    }\n",
       "</style>\n",
       "<table border=\"1\" class=\"dataframe\">\n",
       "  <thead>\n",
       "    <tr style=\"text-align: right;\">\n",
       "      <th></th>\n",
       "      <th>artists</th>\n",
       "      <th>track_name</th>\n",
       "      <th>track_id</th>\n",
       "    </tr>\n",
       "  </thead>\n",
       "  <tbody>\n",
       "    <tr>\n",
       "      <th>30832</th>\n",
       "      <td>Drake</td>\n",
       "      <td>God's Plan</td>\n",
       "      <td>6DCZcSspjsKoFjzjrWoCdn</td>\n",
       "    </tr>\n",
       "    <tr>\n",
       "      <th>8326</th>\n",
       "      <td>Nick Drake</td>\n",
       "      <td>Which Will</td>\n",
       "      <td>4Cg0paoTgxlo2LC85HKaab</td>\n",
       "    </tr>\n",
       "    <tr>\n",
       "      <th>8208</th>\n",
       "      <td>Nick Drake</td>\n",
       "      <td>Road</td>\n",
       "      <td>5ir0VEsMI7cLhN6SEiaKol</td>\n",
       "    </tr>\n",
       "    <tr>\n",
       "      <th>8325</th>\n",
       "      <td>Nick Drake</td>\n",
       "      <td>Saturday Sun</td>\n",
       "      <td>1drLQNS9D5z9lBP4DbtO2R</td>\n",
       "    </tr>\n",
       "    <tr>\n",
       "      <th>72128</th>\n",
       "      <td>Drake</td>\n",
       "      <td>One Dance (feat. Wizkid / Kyla)</td>\n",
       "      <td>5ZKG94fnjiuMH5yrC5S9lS</td>\n",
       "    </tr>\n",
       "  </tbody>\n",
       "</table>\n",
       "</div>"
      ],
      "text/plain": [
       "          artists                       track_name                track_id\n",
       "30832       Drake                       God's Plan  6DCZcSspjsKoFjzjrWoCdn\n",
       "8326   Nick Drake                       Which Will  4Cg0paoTgxlo2LC85HKaab\n",
       "8208   Nick Drake                             Road  5ir0VEsMI7cLhN6SEiaKol\n",
       "8325   Nick Drake                     Saturday Sun  1drLQNS9D5z9lBP4DbtO2R\n",
       "72128       Drake  One Dance (feat. Wizkid / Kyla)  5ZKG94fnjiuMH5yrC5S9lS"
      ]
     },
     "execution_count": 23,
     "metadata": {},
     "output_type": "execute_result"
    }
   ],
   "source": [
    "df.iloc[top_k[1].tolist()[0]][['artists', 'track_name', 'track_id']]"
   ]
  },
  {
   "cell_type": "markdown",
   "metadata": {},
   "source": [
    "# Final Model"
   ]
  },
  {
   "cell_type": "code",
   "execution_count": 37,
   "metadata": {},
   "outputs": [],
   "source": [
    "music_index = faiss.read_index('../data/faiss_index.bin')"
   ]
  },
  {
   "cell_type": "code",
   "execution_count": 38,
   "metadata": {},
   "outputs": [],
   "source": [
    "search_string = 'beatles'"
   ]
  },
  {
   "cell_type": "code",
   "execution_count": 39,
   "metadata": {},
   "outputs": [],
   "source": [
    "query = model.encode([search_string])\n",
    "k = 5\n",
    "top_k = index.search(query, k)"
   ]
  },
  {
   "cell_type": "code",
   "execution_count": 40,
   "metadata": {},
   "outputs": [],
   "source": [
    "def get_album_cover(spotify_session, track_id):\n",
    "    try:\n",
    "        url = spotify_session.track(track_id)['album']['images'][0]['url']\n",
    "    except:\n",
    "        url = 'https://www.lifewire.com/thmb/5Y8ggTdQiyLdq9us-IMpsACJP-s=/1500x0/filters:no_upscale():max_bytes(150000):strip_icc()/alert-icon-5807a14f5f9b5805c2aa679c.PNG'\n",
    "    return url"
   ]
  },
  {
   "cell_type": "code",
   "execution_count": 41,
   "metadata": {},
   "outputs": [],
   "source": [
    "load_dotenv('../src/creds.env')\n",
    "client_id = os.getenv('client_id')\n",
    "client_secret = os.getenv('client_secret')\n",
    "\n",
    "sp = spotipy.Spotify(auth_manager=SpotifyClientCredentials(client_id=client_id, client_secret=client_secret))"
   ]
  },
  {
   "cell_type": "code",
   "execution_count": 42,
   "metadata": {},
   "outputs": [],
   "source": [
    "# Hnswlib\n",
    "# found_tracks = df.iloc[i[0]][['artists', 'track_name', 'track_id']]\n",
    "\n",
    "# FAISS\n",
    "found_tracks = df.iloc[top_k[1].tolist()[0]][['artists', 'track_name', 'track_id']]"
   ]
  },
  {
   "cell_type": "code",
   "execution_count": 43,
   "metadata": {},
   "outputs": [
    {
     "data": {
      "text/html": [
       "<div>\n",
       "<style scoped>\n",
       "    .dataframe tbody tr th:only-of-type {\n",
       "        vertical-align: middle;\n",
       "    }\n",
       "\n",
       "    .dataframe tbody tr th {\n",
       "        vertical-align: top;\n",
       "    }\n",
       "\n",
       "    .dataframe thead th {\n",
       "        text-align: right;\n",
       "    }\n",
       "</style>\n",
       "<table border=\"1\" class=\"dataframe\">\n",
       "  <thead>\n",
       "    <tr style=\"text-align: right;\">\n",
       "      <th></th>\n",
       "      <th>artists</th>\n",
       "      <th>track_name</th>\n",
       "      <th>track_id</th>\n",
       "    </tr>\n",
       "  </thead>\n",
       "  <tbody>\n",
       "    <tr>\n",
       "      <th>0</th>\n",
       "      <td>The Beatles</td>\n",
       "      <td>Help!</td>\n",
       "      <td>6EdSN1iGtLPhcz43QDRkdK</td>\n",
       "    </tr>\n",
       "    <tr>\n",
       "      <th>1</th>\n",
       "      <td>The Beatles</td>\n",
       "      <td>Yellow Submarine</td>\n",
       "      <td>1tdltVUBkiBCW1C3yB4zyD</td>\n",
       "    </tr>\n",
       "    <tr>\n",
       "      <th>2</th>\n",
       "      <td>The Beatles</td>\n",
       "      <td>Hey Jude</td>\n",
       "      <td>1eT2CjXwFXNx6oY5ydvzKU</td>\n",
       "    </tr>\n",
       "    <tr>\n",
       "      <th>3</th>\n",
       "      <td>The Beatles</td>\n",
       "      <td>A Day In The Life</td>\n",
       "      <td>4XiDAxr6alWzxm24i2Rt4K</td>\n",
       "    </tr>\n",
       "    <tr>\n",
       "      <th>4</th>\n",
       "      <td>The Beatles</td>\n",
       "      <td>All You Need Is Love</td>\n",
       "      <td>5zqJlEJcn0EfnvAScH8swK</td>\n",
       "    </tr>\n",
       "  </tbody>\n",
       "</table>\n",
       "</div>"
      ],
      "text/plain": [
       "       artists            track_name                track_id\n",
       "0  The Beatles                 Help!  6EdSN1iGtLPhcz43QDRkdK\n",
       "1  The Beatles      Yellow Submarine  1tdltVUBkiBCW1C3yB4zyD\n",
       "2  The Beatles              Hey Jude  1eT2CjXwFXNx6oY5ydvzKU\n",
       "3  The Beatles     A Day In The Life  4XiDAxr6alWzxm24i2Rt4K\n",
       "4  The Beatles  All You Need Is Love  5zqJlEJcn0EfnvAScH8swK"
      ]
     },
     "execution_count": 43,
     "metadata": {},
     "output_type": "execute_result"
    }
   ],
   "source": [
    "found_tracks.reset_index(drop=True, inplace=True)\n",
    "found_tracks"
   ]
  },
  {
   "cell_type": "code",
   "execution_count": 44,
   "metadata": {},
   "outputs": [
    {
     "data": {
      "text/html": [
       "<div>\n",
       "<style scoped>\n",
       "    .dataframe tbody tr th:only-of-type {\n",
       "        vertical-align: middle;\n",
       "    }\n",
       "\n",
       "    .dataframe tbody tr th {\n",
       "        vertical-align: top;\n",
       "    }\n",
       "\n",
       "    .dataframe thead th {\n",
       "        text-align: right;\n",
       "    }\n",
       "</style>\n",
       "<table border=\"1\" class=\"dataframe\">\n",
       "  <thead>\n",
       "    <tr style=\"text-align: right;\">\n",
       "      <th></th>\n",
       "      <th>artists</th>\n",
       "      <th>track_name</th>\n",
       "      <th>track_id</th>\n",
       "      <th>album_cover</th>\n",
       "    </tr>\n",
       "  </thead>\n",
       "  <tbody>\n",
       "    <tr>\n",
       "      <th>0</th>\n",
       "      <td>The Beatles</td>\n",
       "      <td>Help!</td>\n",
       "      <td>6EdSN1iGtLPhcz43QDRkdK</td>\n",
       "      <td>https://i.scdn.co/image/ab67616d0000b27330503d...</td>\n",
       "    </tr>\n",
       "    <tr>\n",
       "      <th>1</th>\n",
       "      <td>The Beatles</td>\n",
       "      <td>Yellow Submarine</td>\n",
       "      <td>1tdltVUBkiBCW1C3yB4zyD</td>\n",
       "      <td>https://i.scdn.co/image/ab67616d0000b273d807dd...</td>\n",
       "    </tr>\n",
       "    <tr>\n",
       "      <th>2</th>\n",
       "      <td>The Beatles</td>\n",
       "      <td>Hey Jude</td>\n",
       "      <td>1eT2CjXwFXNx6oY5ydvzKU</td>\n",
       "      <td>https://i.scdn.co/image/ab67616d0000b27330503d...</td>\n",
       "    </tr>\n",
       "    <tr>\n",
       "      <th>3</th>\n",
       "      <td>The Beatles</td>\n",
       "      <td>A Day In The Life</td>\n",
       "      <td>4XiDAxr6alWzxm24i2Rt4K</td>\n",
       "      <td>https://i.scdn.co/image/ab67616d0000b27330503d...</td>\n",
       "    </tr>\n",
       "    <tr>\n",
       "      <th>4</th>\n",
       "      <td>The Beatles</td>\n",
       "      <td>All You Need Is Love</td>\n",
       "      <td>5zqJlEJcn0EfnvAScH8swK</td>\n",
       "      <td>https://i.scdn.co/image/ab67616d0000b273d807dd...</td>\n",
       "    </tr>\n",
       "  </tbody>\n",
       "</table>\n",
       "</div>"
      ],
      "text/plain": [
       "       artists            track_name                track_id  \\\n",
       "0  The Beatles                 Help!  6EdSN1iGtLPhcz43QDRkdK   \n",
       "1  The Beatles      Yellow Submarine  1tdltVUBkiBCW1C3yB4zyD   \n",
       "2  The Beatles              Hey Jude  1eT2CjXwFXNx6oY5ydvzKU   \n",
       "3  The Beatles     A Day In The Life  4XiDAxr6alWzxm24i2Rt4K   \n",
       "4  The Beatles  All You Need Is Love  5zqJlEJcn0EfnvAScH8swK   \n",
       "\n",
       "                                         album_cover  \n",
       "0  https://i.scdn.co/image/ab67616d0000b27330503d...  \n",
       "1  https://i.scdn.co/image/ab67616d0000b273d807dd...  \n",
       "2  https://i.scdn.co/image/ab67616d0000b27330503d...  \n",
       "3  https://i.scdn.co/image/ab67616d0000b27330503d...  \n",
       "4  https://i.scdn.co/image/ab67616d0000b273d807dd...  "
      ]
     },
     "execution_count": 44,
     "metadata": {},
     "output_type": "execute_result"
    }
   ],
   "source": [
    "found_tracks['album_cover'] = found_tracks['track_id'].map(lambda x: get_album_cover(sp, x))\n",
    "found_tracks"
   ]
  },
  {
   "cell_type": "code",
   "execution_count": 45,
   "metadata": {},
   "outputs": [],
   "source": [
    "html_table = '''\n",
    "    <!DOCTYPE html>\n",
    "    <html>\n",
    "    <head>\n",
    "    <meta charset=\"UTF-8\">\n",
    "    <title>Sua Página</title>\n",
    "    <link href=\"https://fonts.googleapis.com/css?family=Open+Sans:400,600\" rel=\"stylesheet\">\n",
    "\n",
    "    <style>\n",
    "    *, *:before, *:after {\n",
    "    margin: 0;\n",
    "    padding: 0;\n",
    "    box-sizing: border-box;\n",
    "    }\n",
    "\n",
    "    body {\n",
    "    background: #ffffff;\n",
    "    font-family: 'Open Sans', sans-serif;\n",
    "    }\n",
    "\n",
    "    table {\n",
    "    background: #ffffff;\n",
    "    border-radius: 0.25em;\n",
    "    border-collapse: collapse;\n",
    "    margin: 1em;\n",
    "    }\n",
    "\n",
    "    th {\n",
    "    border-bottom: 1px solid #000000;\n",
    "    color: #000000;\n",
    "    font-size: 0.85em;\n",
    "    font-weight: 600;\n",
    "    padding: 0.5em 1em;\n",
    "    text-align: center;\n",
    "    vertical-align: middle;\n",
    "    }\n",
    "\n",
    "    td {\n",
    "    color: #000000;\n",
    "    font-weight: 400;\n",
    "    padding: 0.65em 1em;\n",
    "    text-align: center;\n",
    "    vertical-align: middle;\n",
    "    }\n",
    "\n",
    "    .disabled td {\n",
    "    color: #959595;\n",
    "    }\n",
    "\n",
    "    tbody tr {\n",
    "    transition: background 0.25s ease;\n",
    "    }\n",
    "\n",
    "    tbody tr:hover {\n",
    "    background: #959595;\n",
    "    }\n",
    "    </style>\n",
    "    </head>\n",
    "    <body>\n",
    "    <table align=\"center\">\n",
    "    <thead>\n",
    "    <tr>\n",
    "    <th>Name</th>\n",
    "    <th>Artists</th>\n",
    "    <th>Album Cover</th>\n",
    "    </tr>\n",
    "    </thead>\n",
    "    <tbody>\n",
    "'''"
   ]
  },
  {
   "cell_type": "code",
   "execution_count": 46,
   "metadata": {},
   "outputs": [],
   "source": [
    "for recommendation in found_tracks.values:\n",
    "    html_table += f'''\n",
    "    <tr>\n",
    "    <td>{recommendation[1]}</td>\n",
    "    <td>{recommendation[0].replace(';', ' | ')}</td>\n",
    "    <td><img src=\"{recommendation[3]}\" width=\"200\" height=\"150\"></td>\n",
    "    </tr>\n",
    "    '''"
   ]
  },
  {
   "cell_type": "code",
   "execution_count": 47,
   "metadata": {},
   "outputs": [],
   "source": [
    "html_table += '''\n",
    "    </tbody>\n",
    "    </table>\n",
    "    </body>\n",
    "    </html>\n",
    "'''"
   ]
  },
  {
   "cell_type": "code",
   "execution_count": 48,
   "metadata": {},
   "outputs": [
    {
     "name": "stdout",
     "output_type": "stream",
     "text": [
      "\n",
      "    <!DOCTYPE html>\n",
      "    <html>\n",
      "    <head>\n",
      "    <meta charset=\"UTF-8\">\n",
      "    <title>Sua Página</title>\n",
      "    <link href=\"https://fonts.googleapis.com/css?family=Open+Sans:400,600\" rel=\"stylesheet\">\n",
      "\n",
      "    <style>\n",
      "    *, *:before, *:after {\n",
      "    margin: 0;\n",
      "    padding: 0;\n",
      "    box-sizing: border-box;\n",
      "    }\n",
      "\n",
      "    body {\n",
      "    background: #ffffff;\n",
      "    font-family: 'Open Sans', sans-serif;\n",
      "    }\n",
      "\n",
      "    table {\n",
      "    background: #ffffff;\n",
      "    border-radius: 0.25em;\n",
      "    border-collapse: collapse;\n",
      "    margin: 1em;\n",
      "    }\n",
      "\n",
      "    th {\n",
      "    border-bottom: 1px solid #000000;\n",
      "    color: #000000;\n",
      "    font-size: 0.85em;\n",
      "    font-weight: 600;\n",
      "    padding: 0.5em 1em;\n",
      "    text-align: center;\n",
      "    vertical-align: middle;\n",
      "    }\n",
      "\n",
      "    td {\n",
      "    color: #000000;\n",
      "    font-weight: 400;\n",
      "    padding: 0.65em 1em;\n",
      "    text-align: center;\n",
      "    vertical-align: middle;\n",
      "    }\n",
      "\n",
      "    .disabled td {\n",
      "    color: #959595;\n",
      "    }\n",
      "\n",
      "    tbody tr {\n",
      "    transition: background 0.25s ease;\n",
      "    }\n",
      "\n",
      "    tbody tr:hover {\n",
      "    background: #959595;\n",
      "    }\n",
      "    </style>\n",
      "    </head>\n",
      "    <body>\n",
      "    <table align=\"center\">\n",
      "    <thead>\n",
      "    <tr>\n",
      "    <th>Name</th>\n",
      "    <th>Artists</th>\n",
      "    <th>Album Cover</th>\n",
      "    </tr>\n",
      "    </thead>\n",
      "    <tbody>\n",
      "\n",
      "    <tr>\n",
      "    <td>Help!</td>\n",
      "    <td>The Beatles</td>\n",
      "    <td><img src=\"https://i.scdn.co/image/ab67616d0000b27330503dbc30e621c96913379b\" width=\"200\" height=\"150\"></td>\n",
      "    </tr>\n",
      "    \n",
      "    <tr>\n",
      "    <td>Yellow Submarine</td>\n",
      "    <td>The Beatles</td>\n",
      "    <td><img src=\"https://i.scdn.co/image/ab67616d0000b273d807dd713cdfbeed142881e2\" width=\"200\" height=\"150\"></td>\n",
      "    </tr>\n",
      "    \n",
      "    <tr>\n",
      "    <td>Hey Jude</td>\n",
      "    <td>The Beatles</td>\n",
      "    <td><img src=\"https://i.scdn.co/image/ab67616d0000b27330503dbc30e621c96913379b\" width=\"200\" height=\"150\"></td>\n",
      "    </tr>\n",
      "    \n",
      "    <tr>\n",
      "    <td>A Day In The Life</td>\n",
      "    <td>The Beatles</td>\n",
      "    <td><img src=\"https://i.scdn.co/image/ab67616d0000b27330503dbc30e621c96913379b\" width=\"200\" height=\"150\"></td>\n",
      "    </tr>\n",
      "    \n",
      "    <tr>\n",
      "    <td>All You Need Is Love</td>\n",
      "    <td>The Beatles</td>\n",
      "    <td><img src=\"https://i.scdn.co/image/ab67616d0000b273d807dd713cdfbeed142881e2\" width=\"200\" height=\"150\"></td>\n",
      "    </tr>\n",
      "    \n",
      "    </tbody>\n",
      "    </table>\n",
      "    </body>\n",
      "    </html>\n",
      "\n"
     ]
    }
   ],
   "source": [
    "print(html_table)"
   ]
  }
 ],
 "metadata": {
  "kernelspec": {
   "display_name": "music",
   "language": "python",
   "name": "python3"
  },
  "language_info": {
   "codemirror_mode": {
    "name": "ipython",
    "version": 3
   },
   "file_extension": ".py",
   "mimetype": "text/x-python",
   "name": "python",
   "nbconvert_exporter": "python",
   "pygments_lexer": "ipython3",
   "version": "3.9.16"
  },
  "orig_nbformat": 4
 },
 "nbformat": 4,
 "nbformat_minor": 2
}
